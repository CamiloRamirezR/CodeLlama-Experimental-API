{
 "cells": [
  {
   "cell_type": "code",
   "execution_count": null,
   "id": "initial_id",
   "metadata": {
    "collapsed": true
   },
   "outputs": [],
   "source": [
    "import torch\n",
    "from transformers import AutoTokenizer, AutoModelForCausalLM"
   ]
  },
  {
   "cell_type": "code",
   "execution_count": null,
   "id": "f327e50e56ab4a98",
   "metadata": {},
   "outputs": [],
   "source": [
    "print(torch.cuda.is_available())  # Esto debería devolver True si la GPU está activada"
   ]
  },
  {
   "cell_type": "code",
   "execution_count": null,
   "id": "7dcca8eddd7812",
   "metadata": {},
   "outputs": [],
   "source": [
    "# Nombre del modelo que quieres usar (asegúrate de que coincide con el modelo disponible en Hugging Face)\n",
    "model_name = \"codellama/CodeLlama-7b-Instruct-hf\""
   ]
  },
  {
   "cell_type": "code",
   "execution_count": null,
   "id": "2564ed75bf9e08ba",
   "metadata": {},
   "outputs": [],
   "source": [
    "# Cargar el tokenizador\n",
    "tokenizer = AutoTokenizer.from_pretrained(model_name)"
   ]
  },
  {
   "cell_type": "code",
   "execution_count": null,
   "id": "ed5b835b0ad47df0",
   "metadata": {},
   "outputs": [],
   "source": [
    "# Cargar el modelo con device_map=\"auto\"\n",
    "model = AutoModelForCausalLM.from_pretrained(model_name, device_map=\"auto\")"
   ]
  },
  {
   "cell_type": "markdown",
   "id": "8d1754ab298bf2e",
   "metadata": {},
   "source": [
    "#### Esto es lo que responde en Colab\n",
    "```\n",
    "Loading checkpoint shards: 100%\n",
    " 2/2 [00:43<00:00, 43.94s/it]\n",
    "generation_config.json: 100%\n",
    " 116/116 [00:00<00:00, 6.57kB/s]\n",
    "WARNING:accelerate.big_modeling:Some parameters are on the meta device because they were offloaded to the cpu and disk.\n",
    "```"
   ]
  },
  {
   "cell_type": "code",
   "execution_count": null,
   "id": "8b8f041df8668a13",
   "metadata": {},
   "outputs": [],
   "source": [
    "# Prompt de prueba para generación de código\n",
    "prompt = \"\"\"# Function to calculate the area of a triangle in Python\"\"\""
   ]
  },
  {
   "cell_type": "code",
   "execution_count": null,
   "id": "cd6d1c90c340de79",
   "metadata": {},
   "outputs": [],
   "source": [
    "# Preparar la entrada y generar la respuesta\n",
    "inputs = tokenizer(prompt, return_tensors=\"pt\").to(\n",
    "    \"cuda\" if torch.cuda.is_available() else \"cpu\"\n",
    ")\n",
    "outputs = model.generate(inputs.input_ids, max_length=150, temperature=0.5)"
   ]
  },
  {
   "cell_type": "markdown",
   "id": "ff8711773a65c8fd",
   "metadata": {},
   "source": [
    "#### Esto es lo que responde en Colab\n",
    "```\n",
    "/usr/local/lib/python3.10/dist-packages/transformers/generation/configuration_utils.py:590: UserWarning: `do_sample` is set to `False`. However, `temperature` is set to `0.5` -- this flag is only used in sample-based generation modes. You should set `do_sample=True` or unset `temperature`.\n",
    "  warnings.warn(\n",
    "The attention mask and the pad token id were not set. As a consequence, you may observe unexpected behavior. Please pass your input's `attention_mask` to obtain reliable results.\n",
    "Setting `pad_token_id` to `eos_token_id`:None for open-end generation.\n",
    "The attention mask is not set and cannot be inferred from input because pad token is same as eos token. As a consequence, you may observe unexpected behavior. Please pass your input's `attention_mask` to obtain reliable results.\n",
    "```"
   ]
  },
  {
   "cell_type": "code",
   "execution_count": null,
   "id": "1a2e2aeb2edf641e",
   "metadata": {},
   "outputs": [],
   "source": [
    "# Decodificar y mostrar el código generado\n",
    "print(tokenizer.decode(outputs[0], skip_special_tokens=True))"
   ]
  }
 ],
 "metadata": {
  "kernelspec": {
   "display_name": "Python 3",
   "language": "python",
   "name": "python3"
  },
  "language_info": {
   "codemirror_mode": {
    "name": "ipython",
    "version": 2
   },
   "file_extension": ".py",
   "mimetype": "text/x-python",
   "name": "python",
   "nbconvert_exporter": "python",
   "pygments_lexer": "ipython2",
   "version": "2.7.6"
  }
 },
 "nbformat": 4,
 "nbformat_minor": 5
}
