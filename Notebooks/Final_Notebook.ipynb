{
 "cells": [
  {
   "cell_type": "code",
   "execution_count": null,
   "id": "initial_id",
   "metadata": {
    "collapsed": true
   },
   "outputs": [],
   "source": [
    "# Verificar GPU\n",
    "gpu_info = !nvidia-smi\n",
    "gpu_info = '\\n'.join(gpu_info)\n",
    "if gpu_info.find('failed') >= 0:\n",
    "  print('Not connected to a GPU')\n",
    "else:\n",
    "  print(gpu_info)"
   ]
  },
  {
   "metadata": {},
   "cell_type": "code",
   "outputs": [],
   "execution_count": null,
   "source": [
    "# Verificar Memoria\n",
    "from psutil import virtual_memory\n",
    "ram_gb = virtual_memory().total / 1e9\n",
    "print('Your runtime has {:.1f} gigabytes of available RAM\\n'.format(ram_gb))\n",
    "\n",
    "if ram_gb < 20:\n",
    "  print('Not using a high-RAM runtime')\n",
    "else:\n",
    "  print('You are using a high-RAM runtime!')"
   ],
   "id": "a4c777673b680cf8"
  },
  {
   "metadata": {},
   "cell_type": "code",
   "outputs": [],
   "execution_count": null,
   "source": [
    "# Importaciones\n",
    "import torch\n",
    "from transformers import AutoTokenizer, AutoModelForCausalLM"
   ],
   "id": "1c90df87ce36366a"
  },
  {
   "metadata": {},
   "cell_type": "code",
   "outputs": [],
   "execution_count": null,
   "source": [
    "# Verificar si hay GPU\n",
    "print(f'GPU disponible: {torch.cuda.is_available()}')"
   ],
   "id": "3ff980aaf284bc95"
  },
  {
   "metadata": {},
   "cell_type": "code",
   "outputs": [],
   "execution_count": null,
   "source": [
    "# Nombre del modelo\n",
    "model_name = \"codellama/CodeLlama-13b-Instruct-hf\""
   ],
   "id": "66fed72657624570"
  },
  {
   "metadata": {},
   "cell_type": "code",
   "outputs": [],
   "execution_count": null,
   "source": [
    "# Cargar el tokenizador\n",
    "tokenizer = AutoTokenizer.from_pretrained(model_name)\n",
    "tokenizer.pad_token = tokenizer.eos_token  # Configurar el token de relleno"
   ],
   "id": "1b31c80ceb443445"
  },
  {
   "metadata": {},
   "cell_type": "code",
   "outputs": [],
   "execution_count": null,
   "source": [
    "# Cargar el modelo en media precisión (fp16)\n",
    "model = AutoModelForCausalLM.from_pretrained(\n",
    "    model_name,\n",
    "    device_map=\"auto\",\n",
    "    torch_dtype=torch.float16  # Reduce el uso de memoria\n",
    ")"
   ],
   "id": "5711948c8be1c086"
  },
  {
   "metadata": {},
   "cell_type": "code",
   "outputs": [],
   "execution_count": null,
   "source": [
    "# Prompt de prueba\n",
    "prompt = \"\"\"\n",
    "# Write a Python Function called analyze_name. The parameter is `full_name`, which contains the user's full name as a string. The function should return a JSON response with the following information:\n",
    "# 1. The total number of words in the full name.\n",
    "# 2. The number of letters in each word.\n",
    "# 3. A breakdown of the letters present in the full name and their frequencies.\n",
    "\"\"\""
   ],
   "id": "bfce448605a39c66"
  },
  {
   "metadata": {},
   "cell_type": "code",
   "outputs": [],
   "execution_count": null,
   "source": [
    "# Preparar la entrada\n",
    "inputs = tokenizer(\n",
    "    prompt,\n",
    "    return_tensors=\"pt\",\n",
    "    padding=True,  # Añade relleno si es necesario\n",
    "    truncation=True,  # Trunca si el texto es demasiado largo\n",
    "    max_length=700,  # Define una longitud máxima clara\n",
    "    return_attention_mask=True  # Asegura que se incluya el attention_mask\n",
    ").to(\"cuda\" if torch.cuda.is_available() else \"cpu\")"
   ],
   "id": "c24f32f148ab8cc6"
  },
  {
   "metadata": {},
   "cell_type": "code",
   "outputs": [],
   "execution_count": null,
   "source": [
    "# Generar la respuesta con parámetros ajustados\n",
    "outputs = model.generate(\n",
    "    inputs.input_ids,\n",
    "    max_length=5000,  # Incrementa el número de tokens para respuestas más completas\n",
    "    temperature=0.7,  # Controla la creatividad\n",
    "    do_sample=True,   # Habilita el muestreo\n",
    "    top_k=50,         # Considera solo las 50 palabras más probables en cada paso\n",
    "    top_p=0.95,        # Habilita la selección basada en probabilidad acumulada\n",
    "    repetition_penalty=1.2,  # Penaliza repeticiones, valores > 1 reducen repeticiones\n",
    "    eos_token_id=tokenizer.eos_token_id  # Termina la generación en el token <eos>\n",
    ")"
   ],
   "id": "4bbb2c571fa93776"
  },
  {
   "metadata": {},
   "cell_type": "code",
   "outputs": [],
   "execution_count": null,
   "source": [
    "# Decodificar y mostrar la respuesta\n",
    "print(tokenizer.decode(outputs[0], skip_special_tokens=True))"
   ],
   "id": "789a07b54f196b66"
  }
 ],
 "metadata": {
  "kernelspec": {
   "display_name": "Python 3",
   "language": "python",
   "name": "python3"
  },
  "language_info": {
   "codemirror_mode": {
    "name": "ipython",
    "version": 2
   },
   "file_extension": ".py",
   "mimetype": "text/x-python",
   "name": "python",
   "nbconvert_exporter": "python",
   "pygments_lexer": "ipython2",
   "version": "2.7.6"
  }
 },
 "nbformat": 4,
 "nbformat_minor": 5
}
