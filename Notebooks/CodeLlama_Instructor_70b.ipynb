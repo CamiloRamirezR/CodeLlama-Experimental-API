{
 "cells": [
  {
   "cell_type": "code",
   "execution_count": null,
   "id": "initial_id",
   "metadata": {
    "collapsed": true
   },
   "outputs": [],
   "source": [
    "import torch\n",
    "from transformers import AutoTokenizer, AutoModelForCausalLM"
   ]
  },
  {
   "cell_type": "code",
   "execution_count": null,
   "id": "e5f239c21c74f6ce",
   "metadata": {},
   "outputs": [],
   "source": [
    "# Nombre del modelo que quieres usar (asegúrate de que coincide con el modelo disponible en Hugging Face)\n",
    "model_name = \"codellama/CodeLlama-70b-Instruct-hf\""
   ]
  },
  {
   "cell_type": "code",
   "execution_count": null,
   "id": "e125049b5f812b52",
   "metadata": {},
   "outputs": [],
   "source": [
    "# Cargar el tokenizador y el modelo\n",
    "tokenizer = AutoTokenizer.from_pretrained(model_name)\n",
    "model = AutoModelForCausalLM.from_pretrained(model_name).to(\n",
    "    \"cuda\" if torch.cuda.is_available() else \"cpu\"\n",
    ")"
   ]
  },
  {
   "cell_type": "code",
   "execution_count": null,
   "id": "ce3b1f808f91b449",
   "metadata": {},
   "outputs": [],
   "source": [
    "# Prompt de prueba para generación de código\n",
    "prompt = \"\"\"# Function to calculate the area of a triangle in Python\"\"\""
   ]
  },
  {
   "cell_type": "code",
   "execution_count": null,
   "id": "9741c20b9084ec81",
   "metadata": {},
   "outputs": [],
   "source": [
    "# Preparar la entrada y generar la respuesta\n",
    "inputs = tokenizer(prompt, return_tensors=\"pt\").to(\n",
    "    \"cuda\" if torch.cuda.is_available() else \"cpu\"\n",
    ")\n",
    "outputs = model.generate(inputs.input_ids, max_length=150, temperature=0.5)"
   ]
  },
  {
   "cell_type": "code",
   "execution_count": null,
   "id": "ac907baa4745ffa8",
   "metadata": {},
   "outputs": [],
   "source": [
    "# Decodificar y mostrar el código generado\n",
    "print(tokenizer.decode(outputs[0], skip_special_tokens=True))"
   ]
  }
 ],
 "metadata": {
  "kernelspec": {
   "display_name": "Python 3",
   "language": "python",
   "name": "python3"
  },
  "language_info": {
   "codemirror_mode": {
    "name": "ipython",
    "version": 2
   },
   "file_extension": ".py",
   "mimetype": "text/x-python",
   "name": "python",
   "nbconvert_exporter": "python",
   "pygments_lexer": "ipython2",
   "version": "2.7.6"
  }
 },
 "nbformat": 4,
 "nbformat_minor": 5
}
