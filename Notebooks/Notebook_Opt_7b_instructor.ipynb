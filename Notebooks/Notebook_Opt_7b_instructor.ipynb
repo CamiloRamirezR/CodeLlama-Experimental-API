{
 "cells": [
  {
   "cell_type": "code",
   "execution_count": null,
   "id": "initial_id",
   "metadata": {
    "collapsed": true
   },
   "outputs": [],
   "source": [
    "# Importaciones\n",
    "import torch\n",
    "from transformers import AutoTokenizer, AutoModelForCausalLM"
   ]
  },
  {
   "cell_type": "code",
   "execution_count": null,
   "id": "93a46855599d82fa",
   "metadata": {},
   "outputs": [],
   "source": [
    "# Verificar si hay GPU\n",
    "print(f\"GPU disponible: {torch.cuda.is_available()}\")"
   ]
  },
  {
   "cell_type": "code",
   "execution_count": null,
   "id": "fdda791fb88f9c9c",
   "metadata": {},
   "outputs": [],
   "source": [
    "# Nombre del modelo\n",
    "model_name = \"codellama/CodeLlama-7b-Instruct-hf\""
   ]
  },
  {
   "cell_type": "code",
   "execution_count": null,
   "id": "13d6f7d9306eccfd",
   "metadata": {},
   "outputs": [],
   "source": [
    "# Cargar el tokenizador\n",
    "tokenizer = AutoTokenizer.from_pretrained(model_name)\n",
    "tokenizer.pad_token = tokenizer.eos_token  # Configurar el token de relleno"
   ]
  },
  {
   "cell_type": "code",
   "execution_count": null,
   "id": "13e7d04bce240e9c",
   "metadata": {},
   "outputs": [],
   "source": [
    "# Cargar el modelo en media precisión (fp16)\n",
    "model = AutoModelForCausalLM.from_pretrained(\n",
    "    model_name,\n",
    "    device_map=\"auto\",\n",
    "    torch_dtype=torch.float16,  # Reduce el uso de memoria\n",
    ")"
   ]
  },
  {
   "cell_type": "code",
   "execution_count": null,
   "id": "c7e4560698739777",
   "metadata": {},
   "outputs": [],
   "source": [
    "# Prompt de prueba\n",
    "prompt = \"\"\"# Function to retrieve a csv as a list of dicts, where every row in the csv is a dict in the list\"\"\""
   ]
  },
  {
   "cell_type": "code",
   "execution_count": null,
   "id": "c721390ed5047d4f",
   "metadata": {},
   "outputs": [],
   "source": [
    "# Preparar la entrada\n",
    "inputs = tokenizer(\n",
    "    prompt,\n",
    "    return_tensors=\"pt\",\n",
    "    padding=True,  # Añade relleno si es necesario\n",
    "    truncation=True,  # Trunca si el texto es demasiado largo\n",
    ").to(\"cuda\" if torch.cuda.is_available() else \"cpu\")"
   ]
  },
  {
   "cell_type": "code",
   "execution_count": null,
   "id": "4994c058cf1bc2cb",
   "metadata": {},
   "outputs": [],
   "source": [
    "# Generar la respuesta con parámetros ajustados\n",
    "outputs = model.generate(\n",
    "    inputs.input_ids,\n",
    "    max_length=300,  # Incrementa el número de tokens para respuestas más completas\n",
    "    temperature=0.7,  # Controla la creatividad\n",
    "    do_sample=True,  # Habilita el muestreo\n",
    "    top_k=50,  # Considera solo las 50 palabras más probables en cada paso\n",
    "    top_p=0.95,  # Habilita la selección basada en probabilidad acumulada\n",
    ")"
   ]
  },
  {
   "cell_type": "code",
   "execution_count": null,
   "id": "2da5cd88581a4baa",
   "metadata": {},
   "outputs": [],
   "source": [
    "# Decodificar y mostrar la respuesta\n",
    "print(tokenizer.decode(outputs[0], skip_special_tokens=True))"
   ]
  }
 ],
 "metadata": {
  "kernelspec": {
   "display_name": "Python 3",
   "language": "python",
   "name": "python3"
  },
  "language_info": {
   "codemirror_mode": {
    "name": "ipython",
    "version": 2
   },
   "file_extension": ".py",
   "mimetype": "text/x-python",
   "name": "python",
   "nbconvert_exporter": "python",
   "pygments_lexer": "ipython2",
   "version": "2.7.6"
  }
 },
 "nbformat": 4,
 "nbformat_minor": 5
}
